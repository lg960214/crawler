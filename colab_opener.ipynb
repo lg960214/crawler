{
 "cells": [
  {
   "cell_type": "code",
   "execution_count": 1,
   "metadata": {},
   "outputs": [],
   "source": [
    "import time, random\n",
    "\n",
    "import selenium\n",
    "from selenium import webdriver\n",
    "from selenium.webdriver import ActionChains\n",
    "\n",
    "from selenium.webdriver.common.keys import Keys\n",
    "from selenium.webdriver.common.by import By\n",
    "\n",
    "from selenium.webdriver.support import expected_conditions as EC\n",
    "from selenium.webdriver.support.ui import Select\n",
    "from selenium.webdriver.support.ui import WebDriverWait\n",
    "\n",
    "from webdriver_manager.chrome import ChromeDriverManager\n",
    "\n",
    "import undetected_chromedriver as uc"
   ]
  },
  {
   "cell_type": "code",
   "execution_count": 2,
   "metadata": {},
   "outputs": [],
   "source": [
    "def init_driver():\n",
    "    driver = uc.Chrome()\n",
    "    driver.get('https://www.google.com')\n",
    "    return driver\n",
    "\n",
    "if  __name__  ==  \"__main__\" :\n",
    "    driver = init_driver()\n"
   ]
  },
  {
   "cell_type": "markdown",
   "metadata": {},
   "source": [
    "## Google login 진행"
   ]
  },
  {
   "cell_type": "code",
   "execution_count": 3,
   "metadata": {},
   "outputs": [],
   "source": [
    "if  __name__  ==  \"__main__\" :\n",
    "    driver.get('https://colab.research.google.com/drive/1vrY85PD4qy7n8NYM6EercjxAQ352teGC')"
   ]
  },
  {
   "cell_type": "markdown",
   "metadata": {},
   "source": [
    "## 2nd 단 진행 후, 아래 코드 실행"
   ]
  },
  {
   "cell_type": "code",
   "execution_count": 4,
   "metadata": {},
   "outputs": [],
   "source": [
    "target = driver.find_elements(by=By.XPATH, value='/html/body/div[7]/div[2]/div[1]/colab-tab-layout-container/div/div/colab-tab-pane/div/div[2]/colab-tab/div/colab-shaded-scroller/div[1]/div[1]/div/div[2]/div[2]/div[2]/div[2]/div[1]/div[1]/div/colab-run-button')\n",
    "\n",
    "start = time.time()\n",
    "\n",
    "while True:\n",
    "    try:\n",
    "        time_std = random.gauss(0, 1)\n",
    "        target[0].click()\n",
    "        time.sleep(1500+200*round(time_std, 3))\n",
    "    except:\n",
    "        print('error occured:', time.time() - start)\n",
    "        print('starting time:', start)\n",
    "        print('occured time:', time.time())"
   ]
  },
  {
   "cell_type": "code",
   "execution_count": 53,
   "metadata": {},
   "outputs": [
    {
     "data": {
      "text/plain": [
       "-1.686"
      ]
     },
     "execution_count": 53,
     "metadata": {},
     "output_type": "execute_result"
    }
   ],
   "source": [
    "\n",
    "round(time_std, 3)"
   ]
  },
  {
   "cell_type": "code",
   "execution_count": null,
   "metadata": {},
   "outputs": [],
   "source": []
  }
 ],
 "metadata": {
  "kernelspec": {
   "display_name": "Python 3.10.4 ('tf2')",
   "language": "python",
   "name": "python3"
  },
  "language_info": {
   "codemirror_mode": {
    "name": "ipython",
    "version": 3
   },
   "file_extension": ".py",
   "mimetype": "text/x-python",
   "name": "python",
   "nbconvert_exporter": "python",
   "pygments_lexer": "ipython3",
   "version": "3.10.4"
  },
  "orig_nbformat": 4,
  "vscode": {
   "interpreter": {
    "hash": "af2ae97737934aa98e6dba68dc0535673c951192309389b26dedf479516c687e"
   }
  }
 },
 "nbformat": 4,
 "nbformat_minor": 2
}

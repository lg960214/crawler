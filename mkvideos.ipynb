{
 "cells": [
  {
   "cell_type": "code",
   "execution_count": 2,
   "metadata": {},
   "outputs": [],
   "source": [
    "import time\n",
    "from tqdm import tqdm\n",
    "\n",
    "import selenium\n",
    "from selenium import webdriver\n",
    "from selenium.webdriver import ActionChains\n",
    "\n",
    "from selenium.webdriver.common.keys import Keys\n",
    "from selenium.webdriver.common.by import By\n",
    "\n",
    "from selenium.webdriver.support import expected_conditions as EC\n",
    "from selenium.webdriver.support.ui import Select\n",
    "from selenium.webdriver.support.ui import WebDriverWait\n",
    "\n",
    "from webdriver_manager.chrome import ChromeDriverManager\n",
    "\n",
    "import pyautogui\n"
   ]
  },
  {
   "cell_type": "code",
   "execution_count": 3,
   "metadata": {},
   "outputs": [
    {
     "name": "stderr",
     "output_type": "stream",
     "text": [
      "\n",
      "\n",
      "====== WebDriver manager ======\n",
      "Current google-chrome version is 103.0.5060\n",
      "Get LATEST chromedriver version for 103.0.5060 google-chrome\n",
      "Driver [C:\\Users\\lg960214\\.wdm\\drivers\\chromedriver\\win32\\103.0.5060.53\\chromedriver.exe] found in cache\n",
      "C:\\Users\\lg960214\\AppData\\Local\\Temp/ipykernel_16796/4101519459.py:3: DeprecationWarning: executable_path has been deprecated, please pass in a Service object\n",
      "  driver = webdriver.Chrome(ChromeDriverManager().install())\n"
     ]
    }
   ],
   "source": [
    "URL = 'https://www.boostcourse.org/boostcampaitech3'\n",
    "\n",
    "driver = webdriver.Chrome(ChromeDriverManager().install())\n",
    "driver.get(url=URL)\n"
   ]
  },
  {
   "cell_type": "markdown",
   "metadata": {},
   "source": [
    "### 로그인 후 아래 코드 실행"
   ]
  },
  {
   "cell_type": "code",
   "execution_count": 15,
   "metadata": {},
   "outputs": [],
   "source": [
    "driver.switch_to.window(driver.window_handles[-1])\n",
    "\n",
    "URL = 'https://www.boostcourse.org/boostcampaitech3/joinLectures/350802'\n",
    "\n",
    "driver.get(url=URL)\n",
    "\n",
    "targets = driver.find_elements(by=By.CLASS_NAME, value='lect_2dep')[20:]\n",
    "\n",
    "link_list = []\n",
    "\n",
    "for target in targets:\n",
    "    links = target.find_elements(by=By.TAG_NAME, value='a')\n",
    "\n",
    "    for link in links:\n",
    "        link_t = link.get_attribute('href')\n",
    "        link_list.append(link_t)\n",
    "\n",
    "\n"
   ]
  },
  {
   "cell_type": "code",
   "execution_count": 9,
   "metadata": {},
   "outputs": [],
   "source": [
    "#chrome window size adjustment\n",
    "\n",
    "driver.set_window_position(-5,0)\n",
    "driver.set_window_size(1920, 1080)\n",
    "\n",
    "for _ in range(3):\n",
    "    time.sleep(0.5)\n",
    "    pyautogui.hotkey('ctrl', '+')"
   ]
  },
  {
   "cell_type": "code",
   "execution_count": 24,
   "metadata": {},
   "outputs": [
    {
     "name": "stdout",
     "output_type": "stream",
     "text": [
      "exception error has occured\n",
      "['']\n",
      "latency error\n",
      "exception error has occured\n",
      "exception error has occured\n",
      "exception error has occured\n",
      "exception error has occured\n",
      "exception error has occured\n",
      "exception error has occured\n",
      "['']\n",
      "latency error\n"
     ]
    }
   ],
   "source": [
    "stop = False\n",
    "\n",
    "for link in link_list[321:]:\n",
    "    driver.get(link)\n",
    "\n",
    "    try:\n",
    "        time.sleep(1)\n",
    "        stop = True\n",
    "\n",
    "        # 동영상에 맞춰 스크롤 내리기\n",
    "        window_adjust = driver.find_elements(by=By.CLASS_NAME, value='u_rmc_progress_bar_padding')[0]\n",
    "        action = ActionChains(driver)\n",
    "        action.move_to_element(window_adjust).perform()\n",
    "        time.sleep(1)\n",
    "        prev_height = str(int(driver.execute_script(\"return window.pageYOffset\")) + 200)\n",
    "        driver.execute_script(\"window.scrollTo(0,\" + prev_height + \")\")\n",
    "\n",
    "        # 동영상 재생\n",
    "        time.sleep(1)\n",
    "        clicker = driver.find_elements(by=By.CLASS_NAME, value='play')[0]\n",
    "        clicker.send_keys(Keys.ENTER)\n",
    "        time.sleep(3)\n",
    "\n",
    "        # 녹화 시작\n",
    "        if stop == True:\n",
    "            pyautogui.moveTo(858, 1051)\n",
    "            pyautogui.click()\n",
    "            time.sleep(1)\n",
    "            pyautogui.press('f2')\n",
    "            stop = False\n",
    "            time.sleep(1)\n",
    "            pyautogui.moveTo(909, 1052)\n",
    "            pyautogui.click()\n",
    "            time.sleep(1)\n",
    "\n",
    "        # 동영상 처음부터 시작\n",
    "        pyautogui.moveTo(900, 760)\n",
    "        time.sleep(1)\n",
    "        pyautogui.click()\n",
    "        time.sleep(0.5)\n",
    "        pyautogui.moveTo(1500, 760)\n",
    "        pyautogui.click()\n",
    "        time.sleep(0.5)\n",
    "        pyautogui.moveTo(652, 760)\n",
    "        pyautogui.click()\n",
    "        time.sleep(0.5)\n",
    "\n",
    "        # 동영상 시간만큼 프로그램 sleep\n",
    "        whole_time = driver.find_elements(by=By.CLASS_NAME, value='u_time_duration')[0]\n",
    "        wt= whole_time.find_elements(by=By.CSS_SELECTOR, value='span')[0]\n",
    "        hms = wt.text.split(':')\n",
    "        latency = ''\n",
    "\n",
    "        if len(hms) == 3:\n",
    "            latency = int(hms[1]) + 60\n",
    "        elif len(hms) == 2:\n",
    "            latency = int(hms[0])\n",
    "        else:\n",
    "            print(hms)\n",
    "            print('latency error')\n",
    "            continue\n",
    "\n",
    "        pyautogui.moveTo(100, 50)\n",
    "\n",
    "        time.sleep(latency*61)\n",
    "\n",
    "\n",
    "        # 녹화 종료\n",
    "        if stop == False:\n",
    "            pyautogui.moveTo(858, 1051)\n",
    "            pyautogui.click()\n",
    "            time.sleep(1)\n",
    "\n",
    "            pyautogui.press('f2')\n",
    "\n",
    "            pyautogui.moveTo(909, 1052)\n",
    "            pyautogui.click()\n",
    "            time.sleep(1)\n",
    "\n",
    "            stop = True\n",
    "\n",
    "    except:\n",
    "        print('exception error has occured')\n",
    "\n",
    "        if stop == False:\n",
    "            pyautogui.moveTo(903, 1060)\n",
    "            pyautogui.click()\n",
    "            time.sleep(1)\n",
    "\n",
    "            pyautogui.press('f2')\n",
    "            \n",
    "            pyautogui.moveTo(851, 1054)\n",
    "            pyautogui.click()\n",
    "            time.sleep(1)\n",
    "            \n",
    "            stop = True"
   ]
  },
  {
   "cell_type": "code",
   "execution_count": 14,
   "metadata": {},
   "outputs": [],
   "source": [
    "time.sleep(1)\n",
    "stop = True\n",
    "\n",
    "# 동영상에 맞춰 스크롤 내리기\n",
    "window_adjust = driver.find_elements(by=By.CLASS_NAME, value='u_rmc_progress_bar_padding')[0]\n",
    "action = ActionChains(driver)\n",
    "action.move_to_element(window_adjust).perform()\n",
    "time.sleep(1)\n",
    "prev_height = str(int(driver.execute_script(\"return window.pageYOffset\")) + 200)\n",
    "driver.execute_script(\"window.scrollTo(0,\" + prev_height + \")\")\n",
    "\n",
    "# 동영상 재생\n",
    "time.sleep(1)\n",
    "clicker = driver.find_elements(by=By.CLASS_NAME, value='play')[0]\n",
    "clicker.send_keys(Keys.ENTER)\n",
    "time.sleep(3)\n",
    "\n",
    "# 녹화 시작\n",
    "if stop == True:\n",
    "    pyautogui.moveTo(858, 1051)\n",
    "    pyautogui.click()\n",
    "    time.sleep(1)\n",
    "    pyautogui.press('f2')\n",
    "    stop = False\n",
    "    time.sleep(1)\n",
    "    pyautogui.moveTo(909, 1052)\n",
    "    pyautogui.click()\n",
    "    time.sleep(1)\n",
    "\n",
    "# 동영상 처음부터 시작\n",
    "pyautogui.moveTo(900, 760)\n",
    "time.sleep(1)\n",
    "pyautogui.click()\n",
    "time.sleep(0.5)\n",
    "pyautogui.moveTo(1500, 760)\n",
    "pyautogui.click()\n",
    "time.sleep(0.5)\n",
    "pyautogui.moveTo(652, 760)\n",
    "pyautogui.click()\n",
    "time.sleep(0.5)\n",
    "\n",
    "# 동영상 시간만큼 프로그램 sleep\n",
    "whole_time = driver.find_elements(by=By.CLASS_NAME, value='u_time_duration')[0]\n",
    "wt= whole_time.find_elements(by=By.CSS_SELECTOR, value='span')[0]\n",
    "hms = wt.text.split(':')\n",
    "\n",
    "if len(hms) == 3:\n",
    "    latency = int(hms[1]) + 60\n",
    "elif len(hms) == 2:\n",
    "    latency = int(hms[0])\n",
    "else:\n",
    "    print(hms)\n",
    "    print('latency error')\n",
    "\n",
    "pyautogui.moveTo(100, 50)\n",
    "\n",
    "# 녹화 종료\n",
    "if stop == False:\n",
    "    pyautogui.moveTo(858, 1051)\n",
    "    pyautogui.click()\n",
    "    time.sleep(1)\n",
    "\n",
    "    pyautogui.press('f2')\n",
    "\n",
    "    pyautogui.moveTo(909, 1052)\n",
    "    pyautogui.click()\n",
    "    time.sleep(1)\n",
    "\n",
    "    stop = True\n",
    "\n",
    "if stop == False:\n",
    "    pyautogui.moveTo(858, 1060)\n",
    "    pyautogui.click()\n",
    "    time.sleep(1)\n",
    "\n",
    "    pyautogui.press('f2')\n",
    "    \n",
    "    pyautogui.moveTo(909, 1054)\n",
    "    pyautogui.click()\n",
    "    time.sleep(1)\n",
    "    \n",
    "    stop = True"
   ]
  },
  {
   "cell_type": "code",
   "execution_count": 12,
   "metadata": {},
   "outputs": [
    {
     "data": {
      "text/plain": [
       "Point(x=724, y=760)"
      ]
     },
     "execution_count": 12,
     "metadata": {},
     "output_type": "execute_result"
    }
   ],
   "source": [
    "time.sleep(2)\n",
    "pyautogui.position()"
   ]
  },
  {
   "cell_type": "code",
   "execution_count": 23,
   "metadata": {},
   "outputs": [],
   "source": [
    "j = link_list[321]\n",
    "\n",
    "driver.get(j)"
   ]
  },
  {
   "cell_type": "code",
   "execution_count": null,
   "metadata": {},
   "outputs": [],
   "source": []
  },
  {
   "cell_type": "code",
   "execution_count": 53,
   "metadata": {},
   "outputs": [],
   "source": []
  },
  {
   "cell_type": "code",
   "execution_count": null,
   "metadata": {},
   "outputs": [],
   "source": []
  },
  {
   "cell_type": "code",
   "execution_count": null,
   "metadata": {},
   "outputs": [],
   "source": []
  }
 ],
 "metadata": {
  "kernelspec": {
   "display_name": "Python 3.9.7 ('base')",
   "language": "python",
   "name": "python3"
  },
  "language_info": {
   "codemirror_mode": {
    "name": "ipython",
    "version": 3
   },
   "file_extension": ".py",
   "mimetype": "text/x-python",
   "name": "python",
   "nbconvert_exporter": "python",
   "pygments_lexer": "ipython3",
   "version": "3.9.7"
  },
  "orig_nbformat": 4,
  "vscode": {
   "interpreter": {
    "hash": "ad2bdc8ecc057115af97d19610ffacc2b4e99fae6737bb82f5d7fb13d2f2c186"
   }
  }
 },
 "nbformat": 4,
 "nbformat_minor": 2
}

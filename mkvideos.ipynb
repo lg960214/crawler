{
 "cells": [
  {
   "cell_type": "code",
   "execution_count": 7,
   "metadata": {},
   "outputs": [],
   "source": [
    "import time\n",
    "from tqdm import tqdm\n",
    "\n",
    "import selenium\n",
    "from selenium import webdriver\n",
    "from selenium.webdriver import ActionChains\n",
    "\n",
    "from selenium.webdriver.common.keys import Keys\n",
    "from selenium.webdriver.common.by import By\n",
    "\n",
    "from selenium.webdriver.support import expected_conditions as EC\n",
    "from selenium.webdriver.support.ui import Select\n",
    "from selenium.webdriver.support.ui import WebDriverWait\n",
    "\n",
    "from webdriver_manager.chrome import ChromeDriverManager\n",
    "\n",
    "import pyautogui\n"
   ]
  },
  {
   "cell_type": "code",
   "execution_count": 3,
   "metadata": {},
   "outputs": [
    {
     "name": "stderr",
     "output_type": "stream",
     "text": [
      "\n",
      "\n",
      "====== WebDriver manager ======\n",
      "Current google-chrome version is 103.0.5060\n",
      "Get LATEST chromedriver version for 103.0.5060 google-chrome\n",
      "Driver [C:\\Users\\lg960214\\.wdm\\drivers\\chromedriver\\win32\\103.0.5060.53\\chromedriver.exe] found in cache\n",
      "C:\\Users\\lg960214\\AppData\\Local\\Temp/ipykernel_22884/4101519459.py:3: DeprecationWarning: executable_path has been deprecated, please pass in a Service object\n",
      "  driver = webdriver.Chrome(ChromeDriverManager().install())\n"
     ]
    }
   ],
   "source": [
    "URL = 'https://www.boostcourse.org/boostcampaitech3'\n",
    "\n",
    "driver = webdriver.Chrome(ChromeDriverManager().install())\n",
    "driver.get(url=URL)\n"
   ]
  },
  {
   "cell_type": "markdown",
   "metadata": {},
   "source": [
    "### 로그인 후 아래 코드 실행"
   ]
  },
  {
   "cell_type": "code",
   "execution_count": 1,
   "metadata": {},
   "outputs": [
    {
     "ename": "NameError",
     "evalue": "name 'driver' is not defined",
     "output_type": "error",
     "traceback": [
      "\u001b[1;31m---------------------------------------------------------------------------\u001b[0m",
      "\u001b[1;31mNameError\u001b[0m                                 Traceback (most recent call last)",
      "\u001b[1;32m~\\AppData\\Local\\Temp/ipykernel_22884/2090408907.py\u001b[0m in \u001b[0;36m<module>\u001b[1;34m\u001b[0m\n\u001b[1;32m----> 1\u001b[1;33m \u001b[0mdriver\u001b[0m\u001b[1;33m.\u001b[0m\u001b[0mswitch_to\u001b[0m\u001b[1;33m.\u001b[0m\u001b[0mwindow\u001b[0m\u001b[1;33m(\u001b[0m\u001b[0mdriver\u001b[0m\u001b[1;33m.\u001b[0m\u001b[0mwindow_handles\u001b[0m\u001b[1;33m[\u001b[0m\u001b[1;33m-\u001b[0m\u001b[1;36m1\u001b[0m\u001b[1;33m]\u001b[0m\u001b[1;33m)\u001b[0m\u001b[1;33m\u001b[0m\u001b[1;33m\u001b[0m\u001b[0m\n\u001b[0m\u001b[0;32m      2\u001b[0m \u001b[1;33m\u001b[0m\u001b[0m\n\u001b[0;32m      3\u001b[0m \u001b[0mURL\u001b[0m \u001b[1;33m=\u001b[0m \u001b[1;34m'https://www.boostcourse.org/boostcampaitech3/joinLectures/350802'\u001b[0m\u001b[1;33m\u001b[0m\u001b[1;33m\u001b[0m\u001b[0m\n\u001b[0;32m      4\u001b[0m \u001b[1;33m\u001b[0m\u001b[0m\n\u001b[0;32m      5\u001b[0m \u001b[0mdriver\u001b[0m\u001b[1;33m.\u001b[0m\u001b[0mget\u001b[0m\u001b[1;33m(\u001b[0m\u001b[0murl\u001b[0m\u001b[1;33m=\u001b[0m\u001b[0mURL\u001b[0m\u001b[1;33m)\u001b[0m\u001b[1;33m\u001b[0m\u001b[1;33m\u001b[0m\u001b[0m\n",
      "\u001b[1;31mNameError\u001b[0m: name 'driver' is not defined"
     ]
    }
   ],
   "source": [
    "driver.switch_to.window(driver.window_handles[-1])\n",
    "\n",
    "URL = 'https://www.boostcourse.org/boostcampaitech3/joinLectures/350802'\n",
    "\n",
    "driver.get(url=URL)\n",
    "\n",
    "targets = driver.find_elements(by=By.CLASS_NAME, value='lect_2dep')[20:]\n",
    "\n",
    "link_list = []\n",
    "\n",
    "stop = False\n",
    "\n",
    "for target in targets:\n",
    "    links = target.find_elements(by=By.TAG_NAME, value='a')\n",
    "\n",
    "    for link in links:\n",
    "        link_t = link.get_attribute('href')\n",
    "        link_list.append(link_t)\n",
    "\n",
    "for link in link_list:\n",
    "    driver.get(link)\n",
    "    try:\n",
    "        target = driver.find_elements(by=By.CLASS_NAME, value='group_r')[2]\n",
    "        if target.text:\n",
    "            if stop == False:\n",
    "                pyautogui.press('f2')\n",
    "                stop = True\n",
    "\n",
    "            window_adjust = driver.find_elements(by=By.CLASS_NAME, value='u_rmc_progress_bar_padding')[0]\n",
    "            action = ActionChains(driver)\n",
    "            action.move_to_element(window_adjust).perform()\n",
    "            time.sleep(1)\n",
    "            prev_height = str(int(driver.execute_script(\"return window.pageYOffset\")) + 200)\n",
    "            driver.execute_script(\"window.scrollTo(0,\" + prev_height + \")\")\n",
    "\n",
    "            clicker = driver.find_elements(by=By.CLASS_NAME, value='play')[0]\n",
    "            clicker.send_keys(Keys.ENTER)\n",
    "            time.sleep(5)\n",
    "    except:\n",
    "        if stop == True:\n",
    "            pyautogui.press('f2')\n",
    "            stop = False\n",
    "        pass\n"
   ]
  },
  {
   "cell_type": "code",
   "execution_count": 11,
   "metadata": {},
   "outputs": [
    {
     "data": {
      "text/plain": [
       "<selenium.webdriver.remote.webelement.WebElement (session=\"51cd7477277271833fe122e45a6f9f57\", element=\"d5185e95-850f-4898-89e4-019cfcf4a3f9\")>"
      ]
     },
     "execution_count": 11,
     "metadata": {},
     "output_type": "execute_result"
    }
   ],
   "source": [
    "a = driver.find_elements_by_class_name('u_time_current')[0]\n",
    "\n",
    "a"
   ]
  },
  {
   "cell_type": "code",
   "execution_count": 7,
   "metadata": {},
   "outputs": [],
   "source": [
    "\n",
    "a = driver.find_elements(by=By.CLASS_NAME, value='u_rmc_progress_bar_padding')[0]\n",
    "action = ActionChains(driver)\n",
    "action.move_to_element(a).perform()\n",
    "\n",
    "time.sleep(1)\n",
    "\n",
    "prev_height = str(int(driver.execute_script(\"return window.pageYOffset\")) + 200)\n",
    "driver.execute_script(\"window.scrollTo(0,\" + prev_height + \")\")\n"
   ]
  },
  {
   "cell_type": "code",
   "execution_count": 41,
   "metadata": {},
   "outputs": [],
   "source": [
    "driver.set_window_position(-5,0)\n",
    "driver.set_window_size(1680, 1080)\n",
    "#driver.set_window_rect(width=100, height=200)"
   ]
  },
  {
   "cell_type": "code",
   "execution_count": 45,
   "metadata": {},
   "outputs": [],
   "source": [
    "time.sleep(2)\n",
    "pyautogui.hotkey('ctrl', '+')\n",
    "# 3"
   ]
  },
  {
   "cell_type": "code",
   "execution_count": 48,
   "metadata": {},
   "outputs": [],
   "source": [
    "target = driver.find_elements(by=By.CLASS_NAME, value='group_r')[2]\n",
    "\n",
    "if target.text:\n",
    "    window_adjust = driver.find_elements(by=By.CLASS_NAME, value='u_rmc_progress_bar_padding')[0]\n",
    "    action = ActionChains(driver)\n",
    "    action.move_to_element(window_adjust).perform()\n",
    "    time.sleep(1)\n",
    "    prev_height = str(int(driver.execute_script(\"return window.pageYOffset\")) + 150)\n",
    "    driver.execute_script(\"window.scrollTo(0,\" + prev_height + \")\")\n",
    "\n",
    "    clicker = driver.find_elements(by=By.CLASS_NAME, value='play')[0]\n",
    "    clicker.send_keys(Keys.ENTER)\n",
    "\n",
    "\n"
   ]
  },
  {
   "cell_type": "code",
   "execution_count": 30,
   "metadata": {},
   "outputs": [
    {
     "ename": "TypeError",
     "evalue": "get_attribute() missing 1 required positional argument: 'name'",
     "output_type": "error",
     "traceback": [
      "\u001b[1;31m---------------------------------------------------------------------------\u001b[0m",
      "\u001b[1;31mTypeError\u001b[0m                                 Traceback (most recent call last)",
      "\u001b[1;32m~\\AppData\\Local\\Temp/ipykernel_22884/2037972770.py\u001b[0m in \u001b[0;36m<module>\u001b[1;34m\u001b[0m\n\u001b[0;32m      1\u001b[0m \u001b[0ma\u001b[0m \u001b[1;33m=\u001b[0m \u001b[0mdriver\u001b[0m\u001b[1;33m.\u001b[0m\u001b[0mfind_elements\u001b[0m\u001b[1;33m(\u001b[0m\u001b[0mby\u001b[0m\u001b[1;33m=\u001b[0m\u001b[0mBy\u001b[0m\u001b[1;33m.\u001b[0m\u001b[0mCLASS_NAME\u001b[0m\u001b[1;33m,\u001b[0m \u001b[0mvalue\u001b[0m\u001b[1;33m=\u001b[0m\u001b[1;34m'u_time_duration'\u001b[0m\u001b[1;33m)\u001b[0m\u001b[1;33m[\u001b[0m\u001b[1;36m0\u001b[0m\u001b[1;33m]\u001b[0m\u001b[1;33m\u001b[0m\u001b[1;33m\u001b[0m\u001b[0m\n\u001b[0;32m      2\u001b[0m \u001b[1;33m\u001b[0m\u001b[0m\n\u001b[1;32m----> 3\u001b[1;33m \u001b[0mb\u001b[0m \u001b[1;33m=\u001b[0m \u001b[0ma\u001b[0m\u001b[1;33m.\u001b[0m\u001b[0mget_attribute\u001b[0m\u001b[1;33m(\u001b[0m\u001b[1;33m)\u001b[0m\u001b[1;33m\u001b[0m\u001b[1;33m\u001b[0m\u001b[0m\n\u001b[0m\u001b[0;32m      4\u001b[0m \u001b[0mprint\u001b[0m\u001b[1;33m(\u001b[0m\u001b[0mb\u001b[0m\u001b[1;33m)\u001b[0m\u001b[1;33m\u001b[0m\u001b[1;33m\u001b[0m\u001b[0m\n",
      "\u001b[1;31mTypeError\u001b[0m: get_attribute() missing 1 required positional argument: 'name'"
     ]
    }
   ],
   "source": [
    "a = driver.find_elements(by=By.CLASS_NAME, value='u_time_duration')[0]\n",
    "\n",
    "b = a.get_attribute()\n",
    "print(b)"
   ]
  },
  {
   "cell_type": "code",
   "execution_count": 53,
   "metadata": {},
   "outputs": [],
   "source": [
    "time.sleep(1)\n",
    "pyautogui.moveTo(900, 800)\n",
    "pyautogui.click()\n",
    "time.sleep(1)\n",
    "pyautogui.moveTo(1500, 800)\n",
    "pyautogui.click()\n",
    "time.sleep(1)\n",
    "pyautogui.moveTo(652, 800)\n",
    "pyautogui.click()\n",
    "time.sleep(1)"
   ]
  },
  {
   "cell_type": "code",
   "execution_count": 71,
   "metadata": {},
   "outputs": [
    {
     "name": "stdout",
     "output_type": "stream",
     "text": [
      "04:57\n",
      "24:41\n"
     ]
    }
   ],
   "source": [
    "a = driver.find_elements(by=By.CLASS_NAME, value='u_time_current')[0]\n",
    "b = a.find_elements(by=By.CSS_SELECTOR, value='span')[0]\n",
    "print(b.text)\n",
    "a2 = driver.find_elements(by=By.CLASS_NAME, value='u_time_duration')[0]\n",
    "b2 = a2.find_elements(by=By.CSS_SELECTOR, value='span')[0]\n",
    "print(b2.text)"
   ]
  },
  {
   "cell_type": "code",
   "execution_count": null,
   "metadata": {},
   "outputs": [],
   "source": [
    "#rmcPlayer_16575073704811582\\.prg-container > div.u_rmc_progress_controls > div.u_rmc_controls_left > div.u_rmc_time_display._animated > span.u_time_current > span"
   ]
  }
 ],
 "metadata": {
  "kernelspec": {
   "display_name": "Python 3.9.7 ('base')",
   "language": "python",
   "name": "python3"
  },
  "language_info": {
   "codemirror_mode": {
    "name": "ipython",
    "version": 3
   },
   "file_extension": ".py",
   "mimetype": "text/x-python",
   "name": "python",
   "nbconvert_exporter": "python",
   "pygments_lexer": "ipython3",
   "version": "3.9.7"
  },
  "orig_nbformat": 4,
  "vscode": {
   "interpreter": {
    "hash": "ad2bdc8ecc057115af97d19610ffacc2b4e99fae6737bb82f5d7fb13d2f2c186"
   }
  }
 },
 "nbformat": 4,
 "nbformat_minor": 2
}

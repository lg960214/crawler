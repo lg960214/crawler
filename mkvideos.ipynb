{
 "cells": [
  {
   "cell_type": "code",
   "execution_count": 1,
   "metadata": {},
   "outputs": [],
   "source": [
    "import time\n",
    "from tqdm import tqdm\n",
    "\n",
    "import selenium\n",
    "from selenium import webdriver\n",
    "from selenium.webdriver import ActionChains\n",
    "\n",
    "from selenium.webdriver.common.keys import Keys\n",
    "from selenium.webdriver.common.by import By\n",
    "\n",
    "from selenium.webdriver.support import expected_conditions as EC\n",
    "from selenium.webdriver.support.ui import Select\n",
    "from selenium.webdriver.support.ui import WebDriverWait\n",
    "\n",
    "from webdriver_manager.chrome import ChromeDriverManager\n",
    "\n",
    "import pyautogui\n"
   ]
  },
  {
   "cell_type": "code",
   "execution_count": 2,
   "metadata": {},
   "outputs": [
    {
     "name": "stderr",
     "output_type": "stream",
     "text": [
      "\n",
      "\n",
      "====== WebDriver manager ======\n",
      "Current google-chrome version is 103.0.5060\n",
      "Get LATEST chromedriver version for 103.0.5060 google-chrome\n",
      "Driver [C:\\Users\\lg960214\\.wdm\\drivers\\chromedriver\\win32\\103.0.5060.53\\chromedriver.exe] found in cache\n",
      "C:\\Users\\lg960214\\AppData\\Local\\Temp/ipykernel_20340/4101519459.py:3: DeprecationWarning: executable_path has been deprecated, please pass in a Service object\n",
      "  driver = webdriver.Chrome(ChromeDriverManager().install())\n"
     ]
    }
   ],
   "source": [
    "URL = 'https://www.boostcourse.org/boostcampaitech3'\n",
    "\n",
    "driver = webdriver.Chrome(ChromeDriverManager().install())\n",
    "driver.get(url=URL)\n"
   ]
  },
  {
   "cell_type": "markdown",
   "metadata": {},
   "source": [
    "### 로그인 후 아래 코드 실행"
   ]
  },
  {
   "cell_type": "code",
   "execution_count": 4,
   "metadata": {},
   "outputs": [],
   "source": [
    "driver.switch_to.window(driver.window_handles[-1])\n",
    "\n",
    "URL = 'https://www.boostcourse.org/boostcampaitech3/joinLectures/350802'\n",
    "\n",
    "driver.get(url=URL)\n",
    "\n",
    "targets = driver.find_elements(by=By.CLASS_NAME, value='lect_2dep')[20:]\n",
    "\n",
    "link_list = []\n",
    "\n",
    "for target in targets:\n",
    "    links = target.find_elements(by=By.TAG_NAME, value='a')\n",
    "\n",
    "    for link in links:\n",
    "        link_t = link.get_attribute('href')\n",
    "        link_list.append(link_t)\n",
    "\n",
    "\n"
   ]
  },
  {
   "cell_type": "code",
   "execution_count": 5,
   "metadata": {},
   "outputs": [],
   "source": [
    "driver.set_window_position(-5,0)\n",
    "driver.set_window_size(1920, 1080)\n",
    "\n",
    "for _ in range(3):\n",
    "    time.sleep(0.5)\n",
    "    pyautogui.hotkey('ctrl', '+')"
   ]
  },
  {
   "cell_type": "code",
   "execution_count": 9,
   "metadata": {},
   "outputs": [
    {
     "name": "stdout",
     "output_type": "stream",
     "text": [
      "수강완료 취소 https://www.boostcourse.org/boostcampaitech3/lecture/1365704?isDesc=false\n",
      "수강완료 취소 https://www.boostcourse.org/boostcampaitech3/lecture/1365705?isDesc=false\n",
      "수강완료 취소 https://www.boostcourse.org/boostcampaitech3/lecture/1365706?isDesc=false\n",
      "수강완료 취소 https://www.boostcourse.org/boostcampaitech3/lecture/1365707?isDesc=false\n",
      "수강완료 취소 https://www.boostcourse.org/boostcampaitech3/lecture/1365708?isDesc=false\n",
      "수강완료 취소 https://www.boostcourse.org/boostcampaitech3/lecture/1365709?isDesc=false\n",
      "수강완료 취소 https://www.boostcourse.org/boostcampaitech3/lecture/1365710?isDesc=false\n",
      "수강완료 취소 https://www.boostcourse.org/boostcampaitech3/lecture/1365711?isDesc=false\n",
      "수강완료 취소 https://www.boostcourse.org/boostcampaitech3/lecture/1365712?isDesc=false\n",
      "수강완료 취소 https://www.boostcourse.org/boostcampaitech3/lecture/1365713?isDesc=false\n",
      "수강완료 취소 https://www.boostcourse.org/boostcampaitech3/lecture/1365714?isDesc=false\n",
      "수강완료 취소 https://www.boostcourse.org/boostcampaitech3/lecture/1365715?isDesc=false\n"
     ]
    }
   ],
   "source": [
    "for link in link_list:\n",
    "    driver.get(link)\n",
    "    try:\n",
    "        target = driver.find_elements(by=By.CLASS_NAME, value='group_r')[2]\n",
    "        print(target.text, link)\n",
    "        if target.text:\n",
    "            if stop == False:\n",
    "                pyautogui.press('f2')\n",
    "                stop = True\n",
    "\n",
    "            window_adjust = driver.find_elements(by=By.CLASS_NAME, value='u_rmc_progress_bar_padding')[0]\n",
    "            action = ActionChains(driver)\n",
    "            action.move_to_element(window_adjust).perform()\n",
    "            time.sleep(1)\n",
    "            prev_height = str(int(driver.execute_script(\"return window.pageYOffset\")) + 200)\n",
    "            driver.execute_script(\"window.scrollTo(0,\" + prev_height + \")\")\n",
    "\n",
    "            clicker = driver.find_elements(by=By.CLASS_NAME, value='play')[0]\n",
    "            clicker.send_keys(Keys.ENTER)\n",
    "            time.sleep(5)\n",
    "    except:\n",
    "        if stop == True:\n",
    "            pyautogui.press('f2')\n",
    "            stop = False\n",
    "        pass"
   ]
  },
  {
   "cell_type": "code",
   "execution_count": 8,
   "metadata": {},
   "outputs": [],
   "source": [
    "stop = False\n",
    "\n",
    "for link in link_list:\n",
    "    driver.get(link)\n",
    "\n",
    "    try:\n",
    "        time.sleep(1)\n",
    "\n",
    "        # 동영상에 맞춰 스크롤 내리기\n",
    "        window_adjust = driver.find_elements(by=By.CLASS_NAME, value='u_rmc_progress_bar_padding')[0]\n",
    "        action = ActionChains(driver)\n",
    "        action.move_to_element(window_adjust).perform()\n",
    "        time.sleep(1)\n",
    "        prev_height = str(int(driver.execute_script(\"return window.pageYOffset\")) + 200)\n",
    "        driver.execute_script(\"window.scrollTo(0,\" + prev_height + \")\")\n",
    "        \n",
    "        # 동영상 재생\n",
    "        time.sleep(1)\n",
    "        clicker = driver.find_elements(by=By.CLASS_NAME, value='play')[0]\n",
    "        clicker.send_keys(Keys.ENTER)\n",
    "\n",
    "        # 녹화 시작\n",
    "        if stop == True:\n",
    "            pyautogui.press('f2')\n",
    "            stop = False\n",
    "\n",
    "        # 동영상 처음부터 시작\n",
    "        pyautogui.moveTo(900, 800)\n",
    "        time.sleep(1)\n",
    "        pyautogui.click()\n",
    "        time.sleep(0.5)\n",
    "        pyautogui.moveTo(1500, 800)\n",
    "        pyautogui.click()\n",
    "        time.sleep(0.5)\n",
    "        pyautogui.moveTo(652, 800)\n",
    "        pyautogui.click()\n",
    "        time.sleep(0.5)\n",
    "\n",
    "        # 동영상 시간만큼 프로그램 sleep\n",
    "        whole_time = driver.find_elements(by=By.CLASS_NAME, value='u_time_duration')[0]\n",
    "        wt= whole_time.find_elements(by=By.CSS_SELECTOR, value='span')[0]\n",
    "        wt = int(wt.split(':')[0])\n",
    "        time.sleep(wt*61)\n",
    "\n",
    "        # 녹화 종료\n",
    "        if stop == False:\n",
    "            pyautogui.press('f2')\n",
    "            stop = True\n",
    "\n",
    "    except:\n",
    "        if stop == False:\n",
    "            pyautogui.press('f2')\n",
    "            stop = True"
   ]
  },
  {
   "cell_type": "code",
   "execution_count": 6,
   "metadata": {},
   "outputs": [
    {
     "ename": "IndexError",
     "evalue": "list index out of range",
     "output_type": "error",
     "traceback": [
      "\u001b[1;31m---------------------------------------------------------------------------\u001b[0m",
      "\u001b[1;31mIndexError\u001b[0m                                Traceback (most recent call last)",
      "\u001b[1;32m~\\AppData\\Local\\Temp/ipykernel_19028/470977318.py\u001b[0m in \u001b[0;36m<module>\u001b[1;34m\u001b[0m\n\u001b[1;32m----> 1\u001b[1;33m \u001b[0mcontents\u001b[0m \u001b[1;33m=\u001b[0m \u001b[0mdriver\u001b[0m\u001b[1;33m.\u001b[0m\u001b[0mfind_elements\u001b[0m\u001b[1;33m(\u001b[0m\u001b[0mby\u001b[0m\u001b[1;33m=\u001b[0m\u001b[0mBy\u001b[0m\u001b[1;33m.\u001b[0m\u001b[0mCSS_SELECTOR\u001b[0m\u001b[1;33m,\u001b[0m \u001b[0mvalue\u001b[0m\u001b[1;33m=\u001b[0m\u001b[1;34m'#content > section > div.user_info_view.ce.ce_view > article:nth-child(8) > div > p:nth-child(11) > span > strong > span'\u001b[0m\u001b[1;33m)\u001b[0m\u001b[1;33m[\u001b[0m\u001b[1;36m0\u001b[0m\u001b[1;33m]\u001b[0m\u001b[1;33m\u001b[0m\u001b[1;33m\u001b[0m\u001b[0m\n\u001b[0m\u001b[0;32m      2\u001b[0m \u001b[0mprint\u001b[0m\u001b[1;33m(\u001b[0m\u001b[0mcontents\u001b[0m\u001b[1;33m)\u001b[0m\u001b[1;33m\u001b[0m\u001b[1;33m\u001b[0m\u001b[0m\n\u001b[0;32m      3\u001b[0m \u001b[1;32mif\u001b[0m \u001b[0mwindow_adjust\u001b[0m\u001b[1;33m:\u001b[0m\u001b[1;33m\u001b[0m\u001b[1;33m\u001b[0m\u001b[0m\n\u001b[0;32m      4\u001b[0m     \u001b[0mwindow_adjust\u001b[0m \u001b[1;33m=\u001b[0m \u001b[0mwindow_adjust\u001b[0m\u001b[1;33m[\u001b[0m\u001b[1;36m0\u001b[0m\u001b[1;33m]\u001b[0m\u001b[1;33m\u001b[0m\u001b[1;33m\u001b[0m\u001b[0m\n\u001b[0;32m      5\u001b[0m     \u001b[0mwindow_adjust\u001b[0m \u001b[1;33m=\u001b[0m \u001b[0mdriver\u001b[0m\u001b[1;33m.\u001b[0m\u001b[0mfind_elements\u001b[0m\u001b[1;33m(\u001b[0m\u001b[0mby\u001b[0m\u001b[1;33m=\u001b[0m\u001b[0mBy\u001b[0m\u001b[1;33m.\u001b[0m\u001b[0mCLASS_NAME\u001b[0m\u001b[1;33m,\u001b[0m \u001b[0mvalue\u001b[0m\u001b[1;33m=\u001b[0m\u001b[1;34m'u_rmc_progress_bar_padding'\u001b[0m\u001b[1;33m)\u001b[0m\u001b[1;33m[\u001b[0m\u001b[1;36m0\u001b[0m\u001b[1;33m]\u001b[0m\u001b[1;33m\u001b[0m\u001b[1;33m\u001b[0m\u001b[0m\n",
      "\u001b[1;31mIndexError\u001b[0m: list index out of range"
     ]
    }
   ],
   "source": [
    "\n",
    "if window_adjust:\n",
    "    window_adjust = window_adjust[0]\n",
    "    window_adjust = driver.find_elements(by=By.CLASS_NAME, value='u_rmc_progress_bar_padding')[0]\n",
    "    action = ActionChains(driver)\n",
    "    action.move_to_element(window_adjust).perform()\n",
    "    time.sleep(1)\n",
    "    prev_height = str(int(driver.execute_script(\"return window.pageYOffset\")) + 200)\n",
    "    driver.execute_script(\"window.scrollTo(0,\" + prev_height + \")\")\n",
    "\n",
    "    clicker = driver.find_elements(by=By.CLASS_NAME, value='play')[0]\n",
    "    clicker.send_keys(Keys.ENTER)\n",
    "\n",
    "    whole_time = driver.find_elements(by=By.CLASS_NAME, value='u_time_duration')[0]\n",
    "    wt= whole_time.find_elements(by=By.CSS_SELECTOR, value='span')[0]\n",
    "    wt = int(wt.split(':')[0])\n",
    "    time.sleep(wt*61)"
   ]
  },
  {
   "cell_type": "code",
   "execution_count": 7,
   "metadata": {},
   "outputs": [
    {
     "name": "stdout",
     "output_type": "stream",
     "text": [
      "[]\n"
     ]
    }
   ],
   "source": []
  },
  {
   "cell_type": "code",
   "execution_count": 48,
   "metadata": {},
   "outputs": [],
   "source": [
    "target = driver.find_elements(by=By.CLASS_NAME, value='group_r')[2]\n",
    "\n",
    "if target.text:\n",
    "    window_adjust = driver.find_elements(by=By.CLASS_NAME, value='u_rmc_progress_bar_padding')[0]\n",
    "    action = ActionChains(driver)\n",
    "    action.move_to_element(window_adjust).perform()\n",
    "    time.sleep(1)\n",
    "    prev_height = str(int(driver.execute_script(\"return window.pageYOffset\")) + 150)\n",
    "    driver.execute_script(\"window.scrollTo(0,\" + prev_height + \")\")\n",
    "\n",
    "    clicker = driver.find_elements(by=By.CLASS_NAME, value='play')[0]\n",
    "    clicker.send_keys(Keys.ENTER)\n",
    "\n",
    "\n"
   ]
  },
  {
   "cell_type": "code",
   "execution_count": 30,
   "metadata": {},
   "outputs": [
    {
     "ename": "TypeError",
     "evalue": "get_attribute() missing 1 required positional argument: 'name'",
     "output_type": "error",
     "traceback": [
      "\u001b[1;31m---------------------------------------------------------------------------\u001b[0m",
      "\u001b[1;31mTypeError\u001b[0m                                 Traceback (most recent call last)",
      "\u001b[1;32m~\\AppData\\Local\\Temp/ipykernel_22884/2037972770.py\u001b[0m in \u001b[0;36m<module>\u001b[1;34m\u001b[0m\n\u001b[0;32m      1\u001b[0m \u001b[0ma\u001b[0m \u001b[1;33m=\u001b[0m \u001b[0mdriver\u001b[0m\u001b[1;33m.\u001b[0m\u001b[0mfind_elements\u001b[0m\u001b[1;33m(\u001b[0m\u001b[0mby\u001b[0m\u001b[1;33m=\u001b[0m\u001b[0mBy\u001b[0m\u001b[1;33m.\u001b[0m\u001b[0mCLASS_NAME\u001b[0m\u001b[1;33m,\u001b[0m \u001b[0mvalue\u001b[0m\u001b[1;33m=\u001b[0m\u001b[1;34m'u_time_duration'\u001b[0m\u001b[1;33m)\u001b[0m\u001b[1;33m[\u001b[0m\u001b[1;36m0\u001b[0m\u001b[1;33m]\u001b[0m\u001b[1;33m\u001b[0m\u001b[1;33m\u001b[0m\u001b[0m\n\u001b[0;32m      2\u001b[0m \u001b[1;33m\u001b[0m\u001b[0m\n\u001b[1;32m----> 3\u001b[1;33m \u001b[0mb\u001b[0m \u001b[1;33m=\u001b[0m \u001b[0ma\u001b[0m\u001b[1;33m.\u001b[0m\u001b[0mget_attribute\u001b[0m\u001b[1;33m(\u001b[0m\u001b[1;33m)\u001b[0m\u001b[1;33m\u001b[0m\u001b[1;33m\u001b[0m\u001b[0m\n\u001b[0m\u001b[0;32m      4\u001b[0m \u001b[0mprint\u001b[0m\u001b[1;33m(\u001b[0m\u001b[0mb\u001b[0m\u001b[1;33m)\u001b[0m\u001b[1;33m\u001b[0m\u001b[1;33m\u001b[0m\u001b[0m\n",
      "\u001b[1;31mTypeError\u001b[0m: get_attribute() missing 1 required positional argument: 'name'"
     ]
    }
   ],
   "source": [
    "a = driver.find_elements(by=By.CLASS_NAME, value='u_time_duration')[0]\n",
    "\n",
    "b = a.get_attribute()\n",
    "print(b)"
   ]
  },
  {
   "cell_type": "code",
   "execution_count": 53,
   "metadata": {},
   "outputs": [],
   "source": []
  },
  {
   "cell_type": "code",
   "execution_count": 32,
   "metadata": {},
   "outputs": [
    {
     "name": "stdout",
     "output_type": "stream",
     "text": [
      "\n",
      "\n",
      "1\n"
     ]
    }
   ],
   "source": []
  },
  {
   "cell_type": "code",
   "execution_count": null,
   "metadata": {},
   "outputs": [],
   "source": []
  }
 ],
 "metadata": {
  "kernelspec": {
   "display_name": "Python 3.9.7 ('base')",
   "language": "python",
   "name": "python3"
  },
  "language_info": {
   "codemirror_mode": {
    "name": "ipython",
    "version": 3
   },
   "file_extension": ".py",
   "mimetype": "text/x-python",
   "name": "python",
   "nbconvert_exporter": "python",
   "pygments_lexer": "ipython3",
   "version": "3.9.7"
  },
  "orig_nbformat": 4,
  "vscode": {
   "interpreter": {
    "hash": "ad2bdc8ecc057115af97d19610ffacc2b4e99fae6737bb82f5d7fb13d2f2c186"
   }
  }
 },
 "nbformat": 4,
 "nbformat_minor": 2
}

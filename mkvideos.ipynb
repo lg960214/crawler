{
 "cells": [
  {
   "cell_type": "code",
   "execution_count": 2,
   "metadata": {},
   "outputs": [],
   "source": [
    "import time\n",
    "from tqdm import tqdm\n",
    "\n",
    "import selenium\n",
    "from selenium import webdriver\n",
    "from selenium.webdriver import ActionChains\n",
    "\n",
    "from selenium.webdriver.common.keys import Keys\n",
    "from selenium.webdriver.common.by import By\n",
    "\n",
    "from selenium.webdriver.support import expected_conditions as EC\n",
    "from selenium.webdriver.support.ui import Select\n",
    "from selenium.webdriver.support.ui import WebDriverWait\n",
    "\n",
    "from webdriver_manager.chrome import ChromeDriverManager\n"
   ]
  },
  {
   "cell_type": "code",
   "execution_count": 3,
   "metadata": {},
   "outputs": [
    {
     "name": "stdout",
     "output_type": "stream",
     "text": [
      "\n"
     ]
    },
    {
     "name": "stderr",
     "output_type": "stream",
     "text": [
      "[WDM] - ====== WebDriver manager ======\n",
      "[WDM] - Current google-chrome version is 103.0.5060\n",
      "[WDM] - Get LATEST chromedriver version for 103.0.5060 google-chrome\n",
      "[WDM] - Driver [C:\\Users\\lg960\\.wdm\\drivers\\chromedriver\\win32\\103.0.5060.53\\chromedriver.exe] found in cache\n"
     ]
    }
   ],
   "source": [
    "URL = 'https://www.boostcourse.org/boostcampaitech3'\n",
    "\n",
    "driver = webdriver.Chrome(ChromeDriverManager().install())\n",
    "driver.get(url=URL)\n"
   ]
  },
  {
   "cell_type": "markdown",
   "metadata": {},
   "source": [
    "### 로그인 후 아래 코드 실행"
   ]
  },
  {
   "cell_type": "code",
   "execution_count": 4,
   "metadata": {},
   "outputs": [],
   "source": [
    "driver.switch_to.window(driver.window_handles[-1])\n",
    "\n",
    "URL = 'https://www.boostcourse.org/boostcampaitech3/joinLectures/350802'\n",
    "\n",
    "driver.get(url=URL)\n",
    "\n",
    "targets = driver.find_elements_by_class_name('lect_2dep')[20:]\n",
    "\n",
    "link_list = []\n",
    "\n",
    "for target in targets:\n",
    "    links = target.find_elements_by_tag_name('a')\n",
    "\n",
    "    for link in links:\n",
    "        link_t = link.get_attribute('href')\n",
    "        link_list.append(link_t)\n",
    "\n",
    "for link in link_list:\n",
    "    driver.get(link)\n",
    "    try:\n",
    "        target = driver.find_elements_by_class_name('group_r')[2]\n",
    "        if target.text:\n",
    "            clicker = driver.find_elements_by_class_name('play')[0]\n",
    "            clicker.send_keys(Keys.ENTER)\n",
    "            time.sleep(5)\n",
    "    except:\n",
    "        pass\n"
   ]
  },
  {
   "cell_type": "code",
   "execution_count": 11,
   "metadata": {},
   "outputs": [
    {
     "data": {
      "text/plain": [
       "<selenium.webdriver.remote.webelement.WebElement (session=\"51cd7477277271833fe122e45a6f9f57\", element=\"d5185e95-850f-4898-89e4-019cfcf4a3f9\")>"
      ]
     },
     "execution_count": 11,
     "metadata": {},
     "output_type": "execute_result"
    }
   ],
   "source": [
    "a = driver.find_elements_by_class_name('u_time_current')[0]\n",
    "\n",
    "a"
   ]
  },
  {
   "cell_type": "code",
   "execution_count": 6,
   "metadata": {},
   "outputs": [],
   "source": [
    "\n",
    "a = driver.find_elements_by_class_name('u_rmc_progress_bar_padding')[0]\n",
    "action = ActionChains(driver)\n",
    "action.move_to_element(a).perform()\n",
    "\n",
    "time.sleep(1)\n",
    "\n",
    "prev_height = str(int(driver.execute_script(\"return window.pageYOffset\")) + 200)\n",
    "driver.execute_script(\"window.scrollTo(0,\" + prev_height + \")\")\n"
   ]
  },
  {
   "cell_type": "code",
   "execution_count": null,
   "metadata": {},
   "outputs": [],
   "source": []
  }
 ],
 "metadata": {
  "kernelspec": {
   "display_name": "Python 3.6.8 ('base')",
   "language": "python",
   "name": "python3"
  },
  "language_info": {
   "codemirror_mode": {
    "name": "ipython",
    "version": 3
   },
   "file_extension": ".py",
   "mimetype": "text/x-python",
   "name": "python",
   "nbconvert_exporter": "python",
   "pygments_lexer": "ipython3",
   "version": "3.6.8"
  },
  "orig_nbformat": 4,
  "vscode": {
   "interpreter": {
    "hash": "e4cce46d6be9934fbd27f9ca0432556941ea5bdf741d4f4d64c6cd7f8dfa8fba"
   }
  }
 },
 "nbformat": 4,
 "nbformat_minor": 2
}
